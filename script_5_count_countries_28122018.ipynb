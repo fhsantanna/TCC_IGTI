{
 "cells": [
  {
   "cell_type": "code",
   "execution_count": 29,
   "metadata": {},
   "outputs": [],
   "source": [
    "import xml.etree.ElementTree as et\n",
    "from affiliation_parser import parse_affil"
   ]
  },
  {
   "cell_type": "code",
   "execution_count": 30,
   "metadata": {},
   "outputs": [],
   "source": [
    "tree = et.parse(\"sp_nov_2001_2018_pubmed_ed.xml\")\n",
    "root = tree.getroot()"
   ]
  },
  {
   "cell_type": "code",
   "execution_count": 31,
   "metadata": {},
   "outputs": [],
   "source": [
    "#Journals\n",
    "with open(\"tabela_countries.txt\", \"w\") as file:\n",
    "    file.write(\"Journal\" + \"\\t\" + \"Article Title\" + \"\\t\" + \"Year\" + \"\\t\" + \"Country\" + \"\\n\")\n",
    "    for article_set in root.findall(\"PubmedArticleSet\"):\n",
    "        for pubmed_article in article_set.findall(\"PubmedArticle\"):\n",
    "            for medline_citation in pubmed_article.findall(\"MedlineCitation\"):\n",
    "                for article in medline_citation.findall(\"Article\"):\n",
    "                    article_title = article.find(\"ArticleTitle\").text\n",
    "                    for author_list in article.findall(\"AuthorList\"):\n",
    "                        first_author = author_list[0]\n",
    "                        for aff_info in first_author.findall(\"AffiliationInfo\"):\n",
    "                            affiliation = aff_info.find(\"Affiliation\").text #captura afiliação do primeiro autor\n",
    "                            country_fa = parse_affil(affiliation)[\"country\"]\n",
    "                    for journal in article.findall(\"Journal\"):\n",
    "                        journal_title = journal.find(\"Title\").text\n",
    "                        for journal_issue in journal.findall(\"JournalIssue\"):\n",
    "                            for pubdate in journal_issue.findall(\"PubDate\"):\n",
    "                                try:\n",
    "                                    year = pubdate.find(\"Year\").text\n",
    "                                    pass\n",
    "                                except:\n",
    "                                    year = pubdate.find(\"MedlineDate\").text.split(\" \")[0]\n",
    "                                file.write(journal_title + \"\\t\" + article_title + \"\\t\" + year + \"\\t\" + country_fa + \"\\n\")\n",
    "\n",
    "                                \n"
   ]
  },
  {
   "cell_type": "code",
   "execution_count": null,
   "metadata": {},
   "outputs": [],
   "source": []
  }
 ],
 "metadata": {
  "kernelspec": {
   "display_name": "Python 3",
   "language": "python",
   "name": "python3"
  },
  "language_info": {
   "codemirror_mode": {
    "name": "ipython",
    "version": 3
   },
   "file_extension": ".py",
   "mimetype": "text/x-python",
   "name": "python",
   "nbconvert_exporter": "python",
   "pygments_lexer": "ipython3",
   "version": "3.6.7"
  }
 },
 "nbformat": 4,
 "nbformat_minor": 2
}
